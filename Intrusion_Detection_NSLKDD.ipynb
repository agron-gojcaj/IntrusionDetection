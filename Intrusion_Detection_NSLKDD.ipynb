{
  "nbformat": 4,
  "nbformat_minor": 0,
  "metadata": {
    "colab": {
      "provenance": [],
      "gpuType": "T4",
      "include_colab_link": true
    },
    "kernelspec": {
      "name": "python3",
      "display_name": "Python 3"
    },
    "language_info": {
      "name": "python"
    },
    "accelerator": "GPU"
  },
  "cells": [
    {
      "cell_type": "markdown",
      "metadata": {
        "id": "view-in-github",
        "colab_type": "text"
      },
      "source": [
        "<a href=\"https://colab.research.google.com/github/agron-gojcaj/IntrusionDetection/blob/main/Intrusion_Detection_NSLKDD.ipynb\" target=\"_parent\"><img src=\"https://colab.research.google.com/assets/colab-badge.svg\" alt=\"Open In Colab\"/></a>"
      ]
    },
    {
      "cell_type": "code",
      "execution_count": 4,
      "metadata": {
        "colab": {
          "base_uri": "https://localhost:8080/"
        },
        "id": "933h7-B12Dbm",
        "outputId": "02dd2948-2cfc-439b-90ae-3b919d7a0ef0"
      },
      "outputs": [
        {
          "output_type": "stream",
          "name": "stdout",
          "text": [
            "Epoch 1: Loss = 126.4034\n",
            "Epoch 2: Loss = 62.5889\n",
            "Epoch 3: Loss = 45.2675\n",
            "Epoch 4: Loss = 36.9164\n",
            "Epoch 5: Loss = 31.0689\n",
            "Epoch 6: Loss = 27.1144\n",
            "Epoch 7: Loss = 24.4022\n",
            "Epoch 8: Loss = 22.9856\n",
            "Epoch 9: Loss = 21.8926\n",
            "Epoch 10: Loss = 21.0980\n",
            "Accuracy: 0.9278\n",
            "              precision    recall  f1-score   support\n",
            "\n",
            "      Normal       0.88      0.99      0.93     11245\n",
            "      Attack       0.99      0.87      0.92     11299\n",
            "\n",
            "    accuracy                           0.93     22544\n",
            "   macro avg       0.93      0.93      0.93     22544\n",
            "weighted avg       0.93      0.93      0.93     22544\n",
            "\n"
          ]
        }
      ],
      "source": [
        "import pandas as pd\n",
        "import numpy as np\n",
        "import torch\n",
        "import torch.nn as nn\n",
        "import torch.optim as optim\n",
        "from torch.utils.data import TensorDataset, DataLoader\n",
        "from sklearn.preprocessing import LabelEncoder, MinMaxScaler\n",
        "from sklearn.metrics import classification_report, accuracy_score\n",
        "\n",
        "# Step 1: Load Data\n",
        "train_df = pd.read_csv('kdd_train.csv')\n",
        "test_df = pd.read_csv('kdd_test.csv')\n",
        "\n",
        "# Step 2: Encode categorical features\n",
        "categorical_cols = ['protocol_type', 'service', 'flag']\n",
        "for col in categorical_cols:\n",
        "    le = LabelEncoder()\n",
        "    train_df[col] = le.fit_transform(train_df[col])\n",
        "    test_df[col] = le.transform(test_df[col])\n",
        "\n",
        "# Step 3: Convert labels to binary (normal = 0, attack = 1)\n",
        "train_df['labels'] = train_df['labels'].apply(lambda x: 0 if x == 'normal' else 1)\n",
        "test_df['labels'] = test_df['labels'].apply(lambda x: 0 if x == 'normal' else 1)\n",
        "\n",
        "# Step 4: Split features and labels\n",
        "X_train = train_df.drop('labels', axis=1).values.astype(np.float32)\n",
        "y_train = train_df['labels'].values.astype(np.float32)\n",
        "\n",
        "X_test = test_df.drop('labels', axis=1).values.astype(np.float32)\n",
        "y_test = test_df['labels'].values.astype(np.float32)\n",
        "\n",
        "# Step 5: Normalize features\n",
        "scaler = MinMaxScaler()\n",
        "X_train = scaler.fit_transform(X_train)\n",
        "X_test = scaler.transform(X_test)\n",
        "\n",
        "# Step 6: Convert to PyTorch tensors\n",
        "X_train_tensor = torch.tensor(X_train)\n",
        "y_train_tensor = torch.tensor(y_train).unsqueeze(1)\n",
        "X_test_tensor = torch.tensor(X_test)\n",
        "y_test_tensor = torch.tensor(y_test).unsqueeze(1)\n",
        "\n",
        "train_data = TensorDataset(X_train_tensor, y_train_tensor)\n",
        "train_loader = DataLoader(train_data, batch_size=128, shuffle=True)\n",
        "\n",
        "# Step 7: Define the neural network\n",
        "class IntrusionDetectionNet(nn.Module):\n",
        "    def __init__(self, input_dim):\n",
        "        super(IntrusionDetectionNet, self).__init__()\n",
        "        self.model = nn.Sequential(\n",
        "            nn.Linear(input_dim, 64),\n",
        "            nn.ReLU(),\n",
        "            nn.Dropout(0.2),\n",
        "            nn.Linear(64, 32),\n",
        "            nn.ReLU(),\n",
        "            nn.Dropout(0.2),\n",
        "            nn.Linear(32, 1),\n",
        "            nn.Sigmoid()\n",
        "        )\n",
        "\n",
        "    def forward(self, x):\n",
        "        return self.model(x)\n",
        "\n",
        "# Step 8: Train the model\n",
        "device = torch.device(\"cuda\" if torch.cuda.is_available() else \"cpu\")\n",
        "model = IntrusionDetectionNet(X_train.shape[1]).to(device)\n",
        "criterion = nn.BCELoss()\n",
        "optimizer = optim.Adam(model.parameters(), lr=0.001)\n",
        "\n",
        "model.train()\n",
        "for epoch in range(10):\n",
        "    total_loss = 0\n",
        "    for xb, yb in train_loader:\n",
        "        xb, yb = xb.to(device), yb.to(device)\n",
        "        optimizer.zero_grad()\n",
        "        pred = model(xb)\n",
        "        loss = criterion(pred, yb)\n",
        "        loss.backward()\n",
        "        optimizer.step()\n",
        "        total_loss += loss.item()\n",
        "    print(f\"Epoch {epoch+1}: Loss = {total_loss:.4f}\")\n",
        "\n",
        "# Step 9: Evaluate\n",
        "model.eval()\n",
        "with torch.no_grad():\n",
        "    y_pred = model(X_test_tensor.to(device)).cpu().numpy()\n",
        "y_pred_binary = (y_pred > 0.5).astype(int)\n",
        "\n",
        "# Step 10: Print results\n",
        "print(f\"Accuracy: {accuracy_score(y_test, y_pred_binary):.4f}\")\n",
        "print(classification_report(y_test, y_pred_binary, target_names=[\"Normal\", \"Attack\"]))"
      ]
    }
  ]
}